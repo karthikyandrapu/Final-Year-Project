{
  "cells": [
    {
      "cell_type": "markdown",
      "metadata": {
        "id": "view-in-github",
        "colab_type": "text"
      },
      "source": [
        "<a href=\"https://colab.research.google.com/github/karthikyandrapu/Final-Year-Project/blob/main/Final.ipynb\" target=\"_parent\"><img src=\"https://colab.research.google.com/assets/colab-badge.svg\" alt=\"Open In Colab\"/></a>"
      ]
    },
    {
      "cell_type": "markdown",
      "metadata": {
        "id": "ol3CdxQwfxrM"
      },
      "source": [
        "# **Named Entity Recognition for Telugu Texts using BERT**"
      ]
    },
    {
      "cell_type": "markdown",
      "metadata": {
        "id": "1CqM-dJVf2w5"
      },
      "source": [
        "**Install Dependencies**"
      ]
    },
    {
      "cell_type": "code",
      "execution_count": 1,
      "metadata": {
        "colab": {
          "base_uri": "https://localhost:8080/"
        },
        "id": "lev5d2Zs52y2",
        "outputId": "675e76d2-107f-406d-994d-b38a9af28401"
      },
      "outputs": [
        {
          "output_type": "stream",
          "name": "stdout",
          "text": [
            "Requirement already satisfied: tensorflow==2.16.1 in /usr/local/lib/python3.11/dist-packages (2.16.1)\n",
            "Requirement already satisfied: absl-py>=1.0.0 in /usr/local/lib/python3.11/dist-packages (from tensorflow==2.16.1) (1.4.0)\n",
            "Requirement already satisfied: astunparse>=1.6.0 in /usr/local/lib/python3.11/dist-packages (from tensorflow==2.16.1) (1.6.3)\n",
            "Requirement already satisfied: flatbuffers>=23.5.26 in /usr/local/lib/python3.11/dist-packages (from tensorflow==2.16.1) (25.2.10)\n",
            "Requirement already satisfied: gast!=0.5.0,!=0.5.1,!=0.5.2,>=0.2.1 in /usr/local/lib/python3.11/dist-packages (from tensorflow==2.16.1) (0.6.0)\n",
            "Requirement already satisfied: google-pasta>=0.1.1 in /usr/local/lib/python3.11/dist-packages (from tensorflow==2.16.1) (0.2.0)\n",
            "Requirement already satisfied: h5py>=3.10.0 in /usr/local/lib/python3.11/dist-packages (from tensorflow==2.16.1) (3.13.0)\n",
            "Requirement already satisfied: libclang>=13.0.0 in /usr/local/lib/python3.11/dist-packages (from tensorflow==2.16.1) (18.1.1)\n",
            "Requirement already satisfied: ml-dtypes~=0.3.1 in /usr/local/lib/python3.11/dist-packages (from tensorflow==2.16.1) (0.3.2)\n",
            "Requirement already satisfied: opt-einsum>=2.3.2 in /usr/local/lib/python3.11/dist-packages (from tensorflow==2.16.1) (3.4.0)\n",
            "Requirement already satisfied: packaging in /usr/local/lib/python3.11/dist-packages (from tensorflow==2.16.1) (24.2)\n",
            "Requirement already satisfied: protobuf!=4.21.0,!=4.21.1,!=4.21.2,!=4.21.3,!=4.21.4,!=4.21.5,<5.0.0dev,>=3.20.3 in /usr/local/lib/python3.11/dist-packages (from tensorflow==2.16.1) (4.25.7)\n",
            "Requirement already satisfied: requests<3,>=2.21.0 in /usr/local/lib/python3.11/dist-packages (from tensorflow==2.16.1) (2.32.3)\n",
            "Requirement already satisfied: setuptools in /usr/local/lib/python3.11/dist-packages (from tensorflow==2.16.1) (75.2.0)\n",
            "Requirement already satisfied: six>=1.12.0 in /usr/local/lib/python3.11/dist-packages (from tensorflow==2.16.1) (1.17.0)\n",
            "Requirement already satisfied: termcolor>=1.1.0 in /usr/local/lib/python3.11/dist-packages (from tensorflow==2.16.1) (3.0.1)\n",
            "Requirement already satisfied: typing-extensions>=3.6.6 in /usr/local/lib/python3.11/dist-packages (from tensorflow==2.16.1) (4.13.2)\n",
            "Requirement already satisfied: wrapt>=1.11.0 in /usr/local/lib/python3.11/dist-packages (from tensorflow==2.16.1) (1.17.2)\n",
            "Requirement already satisfied: grpcio<2.0,>=1.24.3 in /usr/local/lib/python3.11/dist-packages (from tensorflow==2.16.1) (1.71.0)\n",
            "Requirement already satisfied: tensorboard<2.17,>=2.16 in /usr/local/lib/python3.11/dist-packages (from tensorflow==2.16.1) (2.16.2)\n",
            "Requirement already satisfied: keras>=3.0.0 in /usr/local/lib/python3.11/dist-packages (from tensorflow==2.16.1) (3.8.0)\n",
            "Requirement already satisfied: tensorflow-io-gcs-filesystem>=0.23.1 in /usr/local/lib/python3.11/dist-packages (from tensorflow==2.16.1) (0.37.1)\n",
            "Requirement already satisfied: numpy<2.0.0,>=1.23.5 in /usr/local/lib/python3.11/dist-packages (from tensorflow==2.16.1) (1.26.4)\n",
            "Requirement already satisfied: wheel<1.0,>=0.23.0 in /usr/local/lib/python3.11/dist-packages (from astunparse>=1.6.0->tensorflow==2.16.1) (0.45.1)\n",
            "Requirement already satisfied: rich in /usr/local/lib/python3.11/dist-packages (from keras>=3.0.0->tensorflow==2.16.1) (13.9.4)\n",
            "Requirement already satisfied: namex in /usr/local/lib/python3.11/dist-packages (from keras>=3.0.0->tensorflow==2.16.1) (0.0.9)\n",
            "Requirement already satisfied: optree in /usr/local/lib/python3.11/dist-packages (from keras>=3.0.0->tensorflow==2.16.1) (0.15.0)\n",
            "Requirement already satisfied: charset-normalizer<4,>=2 in /usr/local/lib/python3.11/dist-packages (from requests<3,>=2.21.0->tensorflow==2.16.1) (3.4.1)\n",
            "Requirement already satisfied: idna<4,>=2.5 in /usr/local/lib/python3.11/dist-packages (from requests<3,>=2.21.0->tensorflow==2.16.1) (3.10)\n",
            "Requirement already satisfied: urllib3<3,>=1.21.1 in /usr/local/lib/python3.11/dist-packages (from requests<3,>=2.21.0->tensorflow==2.16.1) (2.3.0)\n",
            "Requirement already satisfied: certifi>=2017.4.17 in /usr/local/lib/python3.11/dist-packages (from requests<3,>=2.21.0->tensorflow==2.16.1) (2025.1.31)\n",
            "Requirement already satisfied: markdown>=2.6.8 in /usr/local/lib/python3.11/dist-packages (from tensorboard<2.17,>=2.16->tensorflow==2.16.1) (3.8)\n",
            "Requirement already satisfied: tensorboard-data-server<0.8.0,>=0.7.0 in /usr/local/lib/python3.11/dist-packages (from tensorboard<2.17,>=2.16->tensorflow==2.16.1) (0.7.2)\n",
            "Requirement already satisfied: werkzeug>=1.0.1 in /usr/local/lib/python3.11/dist-packages (from tensorboard<2.17,>=2.16->tensorflow==2.16.1) (3.1.3)\n",
            "Requirement already satisfied: MarkupSafe>=2.1.1 in /usr/local/lib/python3.11/dist-packages (from werkzeug>=1.0.1->tensorboard<2.17,>=2.16->tensorflow==2.16.1) (3.0.2)\n",
            "Requirement already satisfied: markdown-it-py>=2.2.0 in /usr/local/lib/python3.11/dist-packages (from rich->keras>=3.0.0->tensorflow==2.16.1) (3.0.0)\n",
            "Requirement already satisfied: pygments<3.0.0,>=2.13.0 in /usr/local/lib/python3.11/dist-packages (from rich->keras>=3.0.0->tensorflow==2.16.1) (2.18.0)\n",
            "Requirement already satisfied: mdurl~=0.1 in /usr/local/lib/python3.11/dist-packages (from markdown-it-py>=2.2.0->rich->keras>=3.0.0->tensorflow==2.16.1) (0.1.2)\n",
            "Requirement already satisfied: transformers==4.41.0 in /usr/local/lib/python3.11/dist-packages (4.41.0)\n",
            "Requirement already satisfied: filelock in /usr/local/lib/python3.11/dist-packages (from transformers==4.41.0) (3.18.0)\n",
            "Requirement already satisfied: huggingface-hub<1.0,>=0.23.0 in /usr/local/lib/python3.11/dist-packages (from transformers==4.41.0) (0.30.2)\n",
            "Requirement already satisfied: numpy>=1.17 in /usr/local/lib/python3.11/dist-packages (from transformers==4.41.0) (1.26.4)\n",
            "Requirement already satisfied: packaging>=20.0 in /usr/local/lib/python3.11/dist-packages (from transformers==4.41.0) (24.2)\n",
            "Requirement already satisfied: pyyaml>=5.1 in /usr/local/lib/python3.11/dist-packages (from transformers==4.41.0) (6.0.2)\n",
            "Requirement already satisfied: regex!=2019.12.17 in /usr/local/lib/python3.11/dist-packages (from transformers==4.41.0) (2024.11.6)\n",
            "Requirement already satisfied: requests in /usr/local/lib/python3.11/dist-packages (from transformers==4.41.0) (2.32.3)\n",
            "Requirement already satisfied: tokenizers<0.20,>=0.19 in /usr/local/lib/python3.11/dist-packages (from transformers==4.41.0) (0.19.1)\n",
            "Requirement already satisfied: safetensors>=0.4.1 in /usr/local/lib/python3.11/dist-packages (from transformers==4.41.0) (0.5.3)\n",
            "Requirement already satisfied: tqdm>=4.27 in /usr/local/lib/python3.11/dist-packages (from transformers==4.41.0) (4.67.1)\n",
            "Requirement already satisfied: fsspec>=2023.5.0 in /usr/local/lib/python3.11/dist-packages (from huggingface-hub<1.0,>=0.23.0->transformers==4.41.0) (2024.5.0)\n",
            "Requirement already satisfied: typing-extensions>=3.7.4.3 in /usr/local/lib/python3.11/dist-packages (from huggingface-hub<1.0,>=0.23.0->transformers==4.41.0) (4.13.2)\n",
            "Requirement already satisfied: charset-normalizer<4,>=2 in /usr/local/lib/python3.11/dist-packages (from requests->transformers==4.41.0) (3.4.1)\n",
            "Requirement already satisfied: idna<4,>=2.5 in /usr/local/lib/python3.11/dist-packages (from requests->transformers==4.41.0) (3.10)\n",
            "Requirement already satisfied: urllib3<3,>=1.21.1 in /usr/local/lib/python3.11/dist-packages (from requests->transformers==4.41.0) (2.3.0)\n",
            "Requirement already satisfied: certifi>=2017.4.17 in /usr/local/lib/python3.11/dist-packages (from requests->transformers==4.41.0) (2025.1.31)\n",
            "Requirement already satisfied: datasets==2.20.0 in /usr/local/lib/python3.11/dist-packages (2.20.0)\n",
            "Requirement already satisfied: filelock in /usr/local/lib/python3.11/dist-packages (from datasets==2.20.0) (3.18.0)\n",
            "Requirement already satisfied: numpy>=1.17 in /usr/local/lib/python3.11/dist-packages (from datasets==2.20.0) (1.26.4)\n",
            "Requirement already satisfied: pyarrow>=15.0.0 in /usr/local/lib/python3.11/dist-packages (from datasets==2.20.0) (18.1.0)\n",
            "Requirement already satisfied: pyarrow-hotfix in /usr/local/lib/python3.11/dist-packages (from datasets==2.20.0) (0.7)\n",
            "Requirement already satisfied: dill<0.3.9,>=0.3.0 in /usr/local/lib/python3.11/dist-packages (from datasets==2.20.0) (0.3.8)\n",
            "Requirement already satisfied: pandas in /usr/local/lib/python3.11/dist-packages (from datasets==2.20.0) (2.1.4)\n",
            "Requirement already satisfied: requests>=2.32.2 in /usr/local/lib/python3.11/dist-packages (from datasets==2.20.0) (2.32.3)\n",
            "Requirement already satisfied: tqdm>=4.66.3 in /usr/local/lib/python3.11/dist-packages (from datasets==2.20.0) (4.67.1)\n",
            "Requirement already satisfied: xxhash in /usr/local/lib/python3.11/dist-packages (from datasets==2.20.0) (3.5.0)\n",
            "Requirement already satisfied: multiprocess in /usr/local/lib/python3.11/dist-packages (from datasets==2.20.0) (0.70.16)\n",
            "Requirement already satisfied: fsspec<=2024.5.0,>=2023.1.0 in /usr/local/lib/python3.11/dist-packages (from fsspec[http]<=2024.5.0,>=2023.1.0->datasets==2.20.0) (2024.5.0)\n",
            "Requirement already satisfied: aiohttp in /usr/local/lib/python3.11/dist-packages (from datasets==2.20.0) (3.11.15)\n",
            "Requirement already satisfied: huggingface-hub>=0.21.2 in /usr/local/lib/python3.11/dist-packages (from datasets==2.20.0) (0.30.2)\n",
            "Requirement already satisfied: packaging in /usr/local/lib/python3.11/dist-packages (from datasets==2.20.0) (24.2)\n",
            "Requirement already satisfied: pyyaml>=5.1 in /usr/local/lib/python3.11/dist-packages (from datasets==2.20.0) (6.0.2)\n",
            "Requirement already satisfied: aiohappyeyeballs>=2.3.0 in /usr/local/lib/python3.11/dist-packages (from aiohttp->datasets==2.20.0) (2.6.1)\n",
            "Requirement already satisfied: aiosignal>=1.1.2 in /usr/local/lib/python3.11/dist-packages (from aiohttp->datasets==2.20.0) (1.3.2)\n",
            "Requirement already satisfied: attrs>=17.3.0 in /usr/local/lib/python3.11/dist-packages (from aiohttp->datasets==2.20.0) (25.3.0)\n",
            "Requirement already satisfied: frozenlist>=1.1.1 in /usr/local/lib/python3.11/dist-packages (from aiohttp->datasets==2.20.0) (1.6.0)\n",
            "Requirement already satisfied: multidict<7.0,>=4.5 in /usr/local/lib/python3.11/dist-packages (from aiohttp->datasets==2.20.0) (6.4.3)\n",
            "Requirement already satisfied: propcache>=0.2.0 in /usr/local/lib/python3.11/dist-packages (from aiohttp->datasets==2.20.0) (0.3.1)\n",
            "Requirement already satisfied: yarl<2.0,>=1.17.0 in /usr/local/lib/python3.11/dist-packages (from aiohttp->datasets==2.20.0) (1.20.0)\n",
            "Requirement already satisfied: typing-extensions>=3.7.4.3 in /usr/local/lib/python3.11/dist-packages (from huggingface-hub>=0.21.2->datasets==2.20.0) (4.13.2)\n",
            "Requirement already satisfied: charset-normalizer<4,>=2 in /usr/local/lib/python3.11/dist-packages (from requests>=2.32.2->datasets==2.20.0) (3.4.1)\n",
            "Requirement already satisfied: idna<4,>=2.5 in /usr/local/lib/python3.11/dist-packages (from requests>=2.32.2->datasets==2.20.0) (3.10)\n",
            "Requirement already satisfied: urllib3<3,>=1.21.1 in /usr/local/lib/python3.11/dist-packages (from requests>=2.32.2->datasets==2.20.0) (2.3.0)\n",
            "Requirement already satisfied: certifi>=2017.4.17 in /usr/local/lib/python3.11/dist-packages (from requests>=2.32.2->datasets==2.20.0) (2025.1.31)\n",
            "Requirement already satisfied: python-dateutil>=2.8.2 in /usr/local/lib/python3.11/dist-packages (from pandas->datasets==2.20.0) (2.8.2)\n",
            "Requirement already satisfied: pytz>=2020.1 in /usr/local/lib/python3.11/dist-packages (from pandas->datasets==2.20.0) (2025.2)\n",
            "Requirement already satisfied: tzdata>=2022.1 in /usr/local/lib/python3.11/dist-packages (from pandas->datasets==2.20.0) (2025.2)\n",
            "Requirement already satisfied: six>=1.5 in /usr/local/lib/python3.11/dist-packages (from python-dateutil>=2.8.2->pandas->datasets==2.20.0) (1.17.0)\n",
            "Requirement already satisfied: pandas==2.1.4 in /usr/local/lib/python3.11/dist-packages (2.1.4)\n",
            "Requirement already satisfied: numpy<2,>=1.23.2 in /usr/local/lib/python3.11/dist-packages (from pandas==2.1.4) (1.26.4)\n",
            "Requirement already satisfied: python-dateutil>=2.8.2 in /usr/local/lib/python3.11/dist-packages (from pandas==2.1.4) (2.8.2)\n",
            "Requirement already satisfied: pytz>=2020.1 in /usr/local/lib/python3.11/dist-packages (from pandas==2.1.4) (2025.2)\n",
            "Requirement already satisfied: tzdata>=2022.1 in /usr/local/lib/python3.11/dist-packages (from pandas==2.1.4) (2025.2)\n",
            "Requirement already satisfied: six>=1.5 in /usr/local/lib/python3.11/dist-packages (from python-dateutil>=2.8.2->pandas==2.1.4) (1.17.0)\n",
            "Requirement already satisfied: numpy==1.26.4 in /usr/local/lib/python3.11/dist-packages (1.26.4)\n",
            "Requirement already satisfied: scikit-learn==1.4.1.post1 in /usr/local/lib/python3.11/dist-packages (1.4.1.post1)\n",
            "Requirement already satisfied: numpy<2.0,>=1.19.5 in /usr/local/lib/python3.11/dist-packages (from scikit-learn==1.4.1.post1) (1.26.4)\n",
            "Requirement already satisfied: scipy>=1.6.0 in /usr/local/lib/python3.11/dist-packages (from scikit-learn==1.4.1.post1) (1.14.1)\n",
            "Requirement already satisfied: joblib>=1.2.0 in /usr/local/lib/python3.11/dist-packages (from scikit-learn==1.4.1.post1) (1.4.2)\n",
            "Requirement already satisfied: threadpoolctl>=2.0.0 in /usr/local/lib/python3.11/dist-packages (from scikit-learn==1.4.1.post1) (3.6.0)\n",
            "Requirement already satisfied: matplotlib==3.8.3 in /usr/local/lib/python3.11/dist-packages (3.8.3)\n",
            "Requirement already satisfied: contourpy>=1.0.1 in /usr/local/lib/python3.11/dist-packages (from matplotlib==3.8.3) (1.3.2)\n",
            "Requirement already satisfied: cycler>=0.10 in /usr/local/lib/python3.11/dist-packages (from matplotlib==3.8.3) (0.12.1)\n",
            "Requirement already satisfied: fonttools>=4.22.0 in /usr/local/lib/python3.11/dist-packages (from matplotlib==3.8.3) (4.57.0)\n",
            "Requirement already satisfied: kiwisolver>=1.3.1 in /usr/local/lib/python3.11/dist-packages (from matplotlib==3.8.3) (1.4.8)\n",
            "Requirement already satisfied: numpy<2,>=1.21 in /usr/local/lib/python3.11/dist-packages (from matplotlib==3.8.3) (1.26.4)\n",
            "Requirement already satisfied: packaging>=20.0 in /usr/local/lib/python3.11/dist-packages (from matplotlib==3.8.3) (24.2)\n",
            "Requirement already satisfied: pillow>=8 in /usr/local/lib/python3.11/dist-packages (from matplotlib==3.8.3) (11.1.0)\n",
            "Requirement already satisfied: pyparsing>=2.3.1 in /usr/local/lib/python3.11/dist-packages (from matplotlib==3.8.3) (3.2.3)\n",
            "Requirement already satisfied: python-dateutil>=2.7 in /usr/local/lib/python3.11/dist-packages (from matplotlib==3.8.3) (2.8.2)\n",
            "Requirement already satisfied: six>=1.5 in /usr/local/lib/python3.11/dist-packages (from python-dateutil>=2.7->matplotlib==3.8.3) (1.17.0)\n",
            "Requirement already satisfied: seaborn==0.13.2 in /usr/local/lib/python3.11/dist-packages (0.13.2)\n",
            "Requirement already satisfied: numpy!=1.24.0,>=1.20 in /usr/local/lib/python3.11/dist-packages (from seaborn==0.13.2) (1.26.4)\n",
            "Requirement already satisfied: pandas>=1.2 in /usr/local/lib/python3.11/dist-packages (from seaborn==0.13.2) (2.1.4)\n",
            "Requirement already satisfied: matplotlib!=3.6.1,>=3.4 in /usr/local/lib/python3.11/dist-packages (from seaborn==0.13.2) (3.8.3)\n",
            "Requirement already satisfied: contourpy>=1.0.1 in /usr/local/lib/python3.11/dist-packages (from matplotlib!=3.6.1,>=3.4->seaborn==0.13.2) (1.3.2)\n",
            "Requirement already satisfied: cycler>=0.10 in /usr/local/lib/python3.11/dist-packages (from matplotlib!=3.6.1,>=3.4->seaborn==0.13.2) (0.12.1)\n",
            "Requirement already satisfied: fonttools>=4.22.0 in /usr/local/lib/python3.11/dist-packages (from matplotlib!=3.6.1,>=3.4->seaborn==0.13.2) (4.57.0)\n",
            "Requirement already satisfied: kiwisolver>=1.3.1 in /usr/local/lib/python3.11/dist-packages (from matplotlib!=3.6.1,>=3.4->seaborn==0.13.2) (1.4.8)\n",
            "Requirement already satisfied: packaging>=20.0 in /usr/local/lib/python3.11/dist-packages (from matplotlib!=3.6.1,>=3.4->seaborn==0.13.2) (24.2)\n",
            "Requirement already satisfied: pillow>=8 in /usr/local/lib/python3.11/dist-packages (from matplotlib!=3.6.1,>=3.4->seaborn==0.13.2) (11.1.0)\n",
            "Requirement already satisfied: pyparsing>=2.3.1 in /usr/local/lib/python3.11/dist-packages (from matplotlib!=3.6.1,>=3.4->seaborn==0.13.2) (3.2.3)\n",
            "Requirement already satisfied: python-dateutil>=2.7 in /usr/local/lib/python3.11/dist-packages (from matplotlib!=3.6.1,>=3.4->seaborn==0.13.2) (2.8.2)\n",
            "Requirement already satisfied: pytz>=2020.1 in /usr/local/lib/python3.11/dist-packages (from pandas>=1.2->seaborn==0.13.2) (2025.2)\n",
            "Requirement already satisfied: tzdata>=2022.1 in /usr/local/lib/python3.11/dist-packages (from pandas>=1.2->seaborn==0.13.2) (2025.2)\n",
            "Requirement already satisfied: six>=1.5 in /usr/local/lib/python3.11/dist-packages (from python-dateutil>=2.7->matplotlib!=3.6.1,>=3.4->seaborn==0.13.2) (1.17.0)\n",
            "Collecting flask==3.0.2\n",
            "  Using cached flask-3.0.2-py3-none-any.whl.metadata (3.6 kB)\n",
            "Requirement already satisfied: Werkzeug>=3.0.0 in /usr/local/lib/python3.11/dist-packages (from flask==3.0.2) (3.1.3)\n",
            "Requirement already satisfied: Jinja2>=3.1.2 in /usr/local/lib/python3.11/dist-packages (from flask==3.0.2) (3.1.6)\n",
            "Requirement already satisfied: itsdangerous>=2.1.2 in /usr/local/lib/python3.11/dist-packages (from flask==3.0.2) (2.2.0)\n",
            "Requirement already satisfied: click>=8.1.3 in /usr/local/lib/python3.11/dist-packages (from flask==3.0.2) (8.1.8)\n",
            "Requirement already satisfied: blinker>=1.6.2 in /usr/local/lib/python3.11/dist-packages (from flask==3.0.2) (1.9.0)\n",
            "Requirement already satisfied: MarkupSafe>=2.0 in /usr/local/lib/python3.11/dist-packages (from Jinja2>=3.1.2->flask==3.0.2) (3.0.2)\n",
            "Using cached flask-3.0.2-py3-none-any.whl (101 kB)\n",
            "Installing collected packages: flask\n",
            "  Attempting uninstall: flask\n",
            "    Found existing installation: Flask 3.1.0\n",
            "    Uninstalling Flask-3.1.0:\n",
            "      Successfully uninstalled Flask-3.1.0\n",
            "Successfully installed flask-3.0.2\n",
            "Collecting gdown==5.1.0\n",
            "  Downloading gdown-5.1.0-py3-none-any.whl.metadata (5.7 kB)\n",
            "Requirement already satisfied: beautifulsoup4 in /usr/local/lib/python3.11/dist-packages (from gdown==5.1.0) (4.13.4)\n",
            "Requirement already satisfied: filelock in /usr/local/lib/python3.11/dist-packages (from gdown==5.1.0) (3.18.0)\n",
            "Requirement already satisfied: requests[socks] in /usr/local/lib/python3.11/dist-packages (from gdown==5.1.0) (2.32.3)\n",
            "Requirement already satisfied: tqdm in /usr/local/lib/python3.11/dist-packages (from gdown==5.1.0) (4.67.1)\n",
            "Requirement already satisfied: soupsieve>1.2 in /usr/local/lib/python3.11/dist-packages (from beautifulsoup4->gdown==5.1.0) (2.7)\n",
            "Requirement already satisfied: typing-extensions>=4.0.0 in /usr/local/lib/python3.11/dist-packages (from beautifulsoup4->gdown==5.1.0) (4.13.2)\n",
            "Requirement already satisfied: charset-normalizer<4,>=2 in /usr/local/lib/python3.11/dist-packages (from requests[socks]->gdown==5.1.0) (3.4.1)\n",
            "Requirement already satisfied: idna<4,>=2.5 in /usr/local/lib/python3.11/dist-packages (from requests[socks]->gdown==5.1.0) (3.10)\n",
            "Requirement already satisfied: urllib3<3,>=1.21.1 in /usr/local/lib/python3.11/dist-packages (from requests[socks]->gdown==5.1.0) (2.3.0)\n",
            "Requirement already satisfied: certifi>=2017.4.17 in /usr/local/lib/python3.11/dist-packages (from requests[socks]->gdown==5.1.0) (2025.1.31)\n",
            "Requirement already satisfied: PySocks!=1.5.7,>=1.5.6 in /usr/local/lib/python3.11/dist-packages (from requests[socks]->gdown==5.1.0) (1.7.1)\n",
            "Downloading gdown-5.1.0-py3-none-any.whl (17 kB)\n",
            "Installing collected packages: gdown\n",
            "  Attempting uninstall: gdown\n",
            "    Found existing installation: gdown 5.2.0\n",
            "    Uninstalling gdown-5.2.0:\n",
            "      Successfully uninstalled gdown-5.2.0\n",
            "Successfully installed gdown-5.1.0\n"
          ]
        }
      ],
      "source": [
        "!pip install tensorflow==2.16.1\n",
        "!pip install transformers==4.41.0\n",
        "!pip install datasets==2.20.0\n",
        "!pip install pandas==2.1.4\n",
        "!pip install numpy==1.26.4\n",
        "!pip install scikit-learn==1.4.1.post1\n",
        "!pip install matplotlib==3.8.3\n",
        "!pip install seaborn==0.13.2\n",
        "!pip install flask==3.0.2\n",
        "!pip install gdown==5.1.0"
      ]
    },
    {
      "cell_type": "markdown",
      "metadata": {
        "id": "D-IYyQgpgVGB"
      },
      "source": [
        "**Import Dependencies**"
      ]
    },
    {
      "cell_type": "code",
      "execution_count": 19,
      "metadata": {
        "colab": {
          "base_uri": "https://localhost:8080/"
        },
        "id": "QzAKAvJygZgG",
        "outputId": "1a903933-8f2e-4965-d409-0a963ec5371c"
      },
      "outputs": [
        {
          "output_type": "stream",
          "name": "stdout",
          "text": [
            "Successfully Imported\n"
          ]
        }
      ],
      "source": [
        "import tensorflow as tf\n",
        "import pandas as pd\n",
        "import numpy as np\n",
        "from transformers import TFBertModel, BertTokenizerFast\n",
        "from sklearn.model_selection import train_test_split\n",
        "from sklearn.metrics import classification_report, confusion_matrix, precision_recall_fscore_support, accuracy_score\n",
        "import matplotlib.pyplot as plt\n",
        "import seaborn as sns\n",
        "from flask import Flask, request, jsonify\n",
        "import os\n",
        "import json\n",
        "import re\n",
        "import logging\n",
        "from datasets import load_dataset\n",
        "from google.colab import drive\n",
        "import shutil\n",
        "import ast\n",
        "import torch\n",
        "print(\"Successfully Imported\")"
      ]
    },
    {
      "cell_type": "markdown",
      "metadata": {
        "id": "gaXxZvWPh-jS"
      },
      "source": [
        "**Set up logging**"
      ]
    },
    {
      "cell_type": "code",
      "execution_count": 22,
      "metadata": {
        "id": "j8KkXefngf9_"
      },
      "outputs": [],
      "source": [
        "logging.basicConfig(level=logging.INFO)\n",
        "logger = logging.getLogger(__name__)"
      ]
    },
    {
      "cell_type": "markdown",
      "metadata": {
        "id": "y73lPa54iFQt"
      },
      "source": [
        "**Mount Google Drive**"
      ]
    },
    {
      "cell_type": "code",
      "execution_count": 27,
      "metadata": {
        "colab": {
          "base_uri": "https://localhost:8080/"
        },
        "id": "VcfZKdJfiPYy",
        "outputId": "5c5f2233-75aa-4278-f4fa-bea38f341ee3"
      },
      "outputs": [
        {
          "output_type": "stream",
          "name": "stdout",
          "text": [
            "Mounted at /content/drive\n",
            "Mounted Successfully\n"
          ]
        }
      ],
      "source": [
        "drive.mount('/content/drive', force_remount=True)\n",
        "print(\"Mounted Successfully\")"
      ]
    },
    {
      "cell_type": "markdown",
      "metadata": {
        "id": "XftP-XiVizvi"
      },
      "source": [
        "**Define paths**"
      ]
    },
    {
      "cell_type": "code",
      "execution_count": 6,
      "metadata": {
        "colab": {
          "base_uri": "https://localhost:8080/"
        },
        "id": "2itvj1Oii1O4",
        "outputId": "56c9e461-5966-4c96-9ccd-595114e9ff7c"
      },
      "outputs": [
        {
          "output_type": "stream",
          "name": "stdout",
          "text": [
            "Successfully paths defined\n"
          ]
        }
      ],
      "source": [
        "model_name = 'google/bert_uncased_L-12_H-768_A-12'\n",
        "cache_dir = '/content/drive/MyDrive/NER/bert_uncased_L-12_H-768_A-12'\n",
        "INPUT_CSV = '/content/drive/MyDrive/NER/telugu_ner_data_uncleaned.csv'\n",
        "OUTPUT_CSV = '/content/drive/MyDrive/NER/telugu_ner_data.csv'\n",
        "print(\"Successfully paths defined\")"
      ]
    },
    {
      "cell_type": "markdown",
      "metadata": {
        "id": "-LOqiNz4i-Ne"
      },
      "source": [
        "**Function to validate cache directory**"
      ]
    },
    {
      "cell_type": "code",
      "execution_count": 7,
      "metadata": {
        "id": "CBrzkc_WjCBt"
      },
      "outputs": [],
      "source": [
        "def is_valid_cache(cache_path):\n",
        "    required_files = ['config.json']\n",
        "    if not os.path.isdir(cache_path):\n",
        "        return False\n",
        "    existing_files = os.listdir(cache_path)\n",
        "    logger.info(f\"Cache directory contents: {existing_files}\")\n",
        "    print(f\"Cache directory contents: {existing_files}\")\n",
        "    return all(os.path.isfile(os.path.join(cache_path, f)) for f in required_files)"
      ]
    },
    {
      "cell_type": "markdown",
      "metadata": {
        "id": "ZZFFlO6CsJII"
      },
      "source": [
        "**Initialize tokenizer and model**"
      ]
    },
    {
      "cell_type": "code",
      "execution_count": 8,
      "metadata": {
        "colab": {
          "base_uri": "https://localhost:8080/"
        },
        "id": "jBgm-bKv52y4",
        "outputId": "50ded84e-fc87-43b0-ecd5-67c39a2dd148"
      },
      "outputs": [
        {
          "output_type": "stream",
          "name": "stdout",
          "text": [
            "Cache directory contents: ['tokenizer_config.json', 'special_tokens_map.json', 'vocab.txt', 'tokenizer.json', 'config.json', 'tf_model.h5']\n"
          ]
        },
        {
          "output_type": "stream",
          "name": "stderr",
          "text": [
            "All model checkpoint layers were used when initializing TFBertModel.\n",
            "\n",
            "All the layers of TFBertModel were initialized from the model checkpoint at /content/drive/MyDrive/NER/bert_uncased_L-12_H-768_A-12.\n",
            "If your task is similar to the task the model of the checkpoint was trained on, you can already use TFBertModel for predictions without further training.\n"
          ]
        }
      ],
      "source": [
        "try:\n",
        "    logger.info(f\"Checking cache at {cache_dir}\")\n",
        "    if is_valid_cache(cache_dir):\n",
        "        logger.info(f\"Loading tokenizer and model from Drive cache: {cache_dir}\")\n",
        "        tokenizer = BertTokenizerFast.from_pretrained(cache_dir)\n",
        "        bert_model = TFBertModel.from_pretrained(cache_dir)\n",
        "    else:\n",
        "        if os.path.exists(cache_dir):\n",
        "            logger.warning(f\"Invalid cache at {cache_dir}. Deleting and reloading from Hugging Face.\")\n",
        "            shutil.rmtree(cache_dir, ignore_errors=True)\n",
        "        logger.info(f\"Loading {model_name} from Hugging Face and caching to Drive\")\n",
        "        tokenizer = BertTokenizerFast.from_pretrained(model_name, from_pt=True)\n",
        "        bert_model = TFBertModel.from_pretrained(model_name, from_pt=True)\n",
        "        # Save to Drive\n",
        "        try:\n",
        "            os.makedirs(cache_dir, exist_ok=True)\n",
        "            tokenizer.save_pretrained(cache_dir)\n",
        "            bert_model.save_pretrained(cache_dir)\n",
        "            logger.info(f\"Model and tokenizer cached to {cache_dir}\")\n",
        "        except Exception as e:\n",
        "            logger.warning(f\"Failed to cache to Drive: {str(e)}. Proceeding without caching.\")\n",
        "except Exception as e:\n",
        "    logger.error(f\"Failed to load {model_name}: {str(e)}. Check network, Drive access, or disk space.\")\n",
        "    raise\n",
        "\n",
        "# Log to clarify PyTorch weights warning\n",
        "logger.info(\"Note: Warnings about unused PyTorch weights (e.g., cls.predictions) are expected, \"\n",
        "            \"as they are for pretraining tasks not used in NER. \"\n",
        "            \"Pooler gradient warnings, if any, are harmless as pooler is unused in NER output.\")"
      ]
    },
    {
      "cell_type": "markdown",
      "metadata": {
        "id": "CfhaZhAftS_4"
      },
      "source": [
        "**Verify vocabulary size**"
      ]
    },
    {
      "cell_type": "code",
      "execution_count": 9,
      "metadata": {
        "id": "mOK-1FraJ8Aa"
      },
      "outputs": [],
      "source": [
        "vocab_size = tokenizer.vocab_size\n",
        "logger.info(f\"Tokenizer vocab size: {vocab_size}\")\n",
        "assert vocab_size > 30000, \"Unexpected vocab size\""
      ]
    },
    {
      "cell_type": "markdown",
      "metadata": {
        "id": "3ICgdlkatcbh"
      },
      "source": [
        "**Define Tag Mappings**"
      ]
    },
    {
      "cell_type": "code",
      "execution_count": 10,
      "metadata": {
        "colab": {
          "base_uri": "https://localhost:8080/"
        },
        "id": "62p8UDNutfTH",
        "outputId": "928e541c-c1cc-43a8-b886-dbfc6c2ee871"
      },
      "outputs": [
        {
          "output_type": "stream",
          "name": "stdout",
          "text": [
            "Defined Tag Mappings\n"
          ]
        }
      ],
      "source": [
        "tag2id = {'O': 0, 'B-PER': 1, 'I-PER': 2, 'B-LOC': 3, 'I-LOC': 4, 'B-ORG': 5, 'I-ORG': 6}\n",
        "id2tag = {v: k for k, v in tag2id.items()}\n",
        "logger.info(f\"Tag mappings: {tag2id}\")\n",
        "print(\"Defined Tag Mappings\")"
      ]
    },
    {
      "cell_type": "markdown",
      "metadata": {
        "id": "9zAKl3f0tki9"
      },
      "source": [
        "**Pre-clean the CSV**"
      ]
    },
    {
      "cell_type": "code",
      "execution_count": 11,
      "metadata": {
        "colab": {
          "base_uri": "https://localhost:8080/"
        },
        "id": "ckToPioCtoul",
        "outputId": "c20f2c97-43e6-474b-a01e-fd4390035a10"
      },
      "outputs": [
        {
          "output_type": "stream",
          "name": "stdout",
          "text": [
            "Cleaned CSV saved: /content/drive/MyDrive/NER/telugu_ner_data.csv\n",
            "Total rows cleaned: 228273\n",
            "Total rows skipped: 0\n"
          ]
        }
      ],
      "source": [
        "def parse_field(field):\n",
        "    \"\"\"Try to parse a string as a list, or fallback to space-splitting.\"\"\"\n",
        "    if isinstance(field, str):\n",
        "        try:\n",
        "            return ast.literal_eval(field)\n",
        "        except (ValueError, SyntaxError):\n",
        "            try:\n",
        "                return json.loads(field)\n",
        "            except json.JSONDecodeError:\n",
        "                return field.strip().split()\n",
        "    return field\n",
        "\n",
        "def is_token_list(lst):\n",
        "    return all(isinstance(item, str) and (item.startswith('B-') or item == 'O') for item in lst)\n",
        "\n",
        "def clean_ner_csv(input_path, output_path):\n",
        "    if not os.path.exists(input_path):\n",
        "        print(f\"Input file not found: {input_path}\")\n",
        "        return\n",
        "\n",
        "    df = pd.read_csv(input_path, encoding='utf-8')\n",
        "    cleaned_rows = []\n",
        "    skipped = 0\n",
        "\n",
        "    for idx, row in df.iterrows():\n",
        "        tokens_raw = row.get('tokens')\n",
        "        labels_raw = row.get('labels')\n",
        "\n",
        "        tokens = parse_field(tokens_raw)\n",
        "        labels = parse_field(labels_raw)\n",
        "\n",
        "        # Swap if needed\n",
        "        if is_token_list(labels) and not is_token_list(tokens):\n",
        "            tokens, labels = labels, tokens\n",
        "\n",
        "        # Validate lists\n",
        "        if not isinstance(tokens, list) or not isinstance(labels, list):\n",
        "            skipped += 1\n",
        "            continue\n",
        "\n",
        "        if len(tokens) != len(labels):\n",
        "            skipped += 1\n",
        "            continue\n",
        "\n",
        "        cleaned_rows.append({'tokens': tokens, 'labels': labels})\n",
        "\n",
        "    # Save cleaned CSV\n",
        "    cleaned_df = pd.DataFrame(cleaned_rows)\n",
        "    cleaned_df.to_csv(output_path, index=False, encoding='utf-8')\n",
        "    print(f\"Cleaned CSV saved: {output_path}\")\n",
        "    print(f\"Total rows cleaned: {len(cleaned_df)}\")\n",
        "    print(f\"Total rows skipped: {skipped}\")\n",
        "\n",
        "# Run the cleaning\n",
        "clean_ner_csv(INPUT_CSV, OUTPUT_CSV)"
      ]
    },
    {
      "cell_type": "markdown",
      "metadata": {
        "id": "NNGky6YhtwU0"
      },
      "source": [
        "**Load Dataset from CSV**"
      ]
    },
    {
      "cell_type": "code",
      "execution_count": 12,
      "metadata": {
        "colab": {
          "base_uri": "https://localhost:8080/"
        },
        "id": "PZ2N-SNwt1po",
        "outputId": "a8cd3d3a-f347-44c5-d56f-864602fd99c8"
      },
      "outputs": [
        {
          "output_type": "stream",
          "name": "stdout",
          "text": [
            "[INFO] Loading data\n",
            "[INFO] Attempting to load CSV dataset from /content/drive/MyDrive/NER/telugu_ner_data.csv\n",
            "[INFO] CSV columns: ['tokens', 'labels']\n",
            "[INFO] First row sample: {'tokens': \"['O', 'B-LOC', 'B-LOC', 'B-LOC', 'O', 'O', 'O', 'O', 'B-LOC', 'O']\", 'labels': \"['ఈ', 'గ్రామం', 'చేవేండ్ర', 'గ్రామ', 'పంచాయతీ', 'పరిధిలోని', 'ఒక', 'శివారు', 'గ్రామం', '.']\"}\n",
            "[INFO] Dataset head:\n",
            "                                              tokens  \\\n",
            "0  ['O', 'B-LOC', 'B-LOC', 'B-LOC', 'O', 'O', 'O'...   \n",
            "1  ['B-LOC', 'O', 'B-MISC', 'B-LOC', 'B-LOC', 'B-...   \n",
            "2  ['B-NAME', 'B-NAME', 'B-MISC', 'O', 'B-MISC', ...   \n",
            "3  ['B-NAME', 'O', 'B-LOC', 'B-LOC', 'O', 'B-LOC'...   \n",
            "4  ['B-NAME', 'O', 'B-LOC', 'B-LOC', 'B-LOC', 'O'...   \n",
            "\n",
            "                                              labels  \n",
            "0  ['ఈ', 'గ్రామం', 'చేవేండ్ర', 'గ్రామ', 'పంచాయతీ'...  \n",
            "1  ['మధ్యప్రదేశ్', 'రాష్ట్ర', '51', 'జిల్లాలలో', ...  \n",
            "2  ['నెంబర్', 'వన్', '1994', 'జనవరి', '14', 'న', ...  \n",
            "3  ['గుమ్మసముద్రం', ',', 'చిత్తూరు', 'జిల్లా', ',...  \n",
            "4  ['కుందూరు', ',', 'తూర్పు', 'గోదావరి', 'జిల్లా'...  \n",
            "[INFO] Loaded 228273 valid samples from CSV\n",
            "[INFO] CSV columns: ['tokens', 'labels']\n",
            "<class 'pandas.core.frame.DataFrame'>\n",
            "RangeIndex: 228273 entries, 0 to 228272\n",
            "Data columns (total 2 columns):\n",
            " #   Column  Non-Null Count   Dtype \n",
            "---  ------  --------------   ----- \n",
            " 0   tokens  228273 non-null  object\n",
            " 1   labels  228273 non-null  object\n",
            "dtypes: object(2)\n",
            "memory usage: 3.5+ MB\n",
            "Dataset Info:\n",
            "<class 'pandas.core.frame.DataFrame'>\n",
            "RangeIndex: 228273 entries, 0 to 228272\n",
            "Data columns (total 2 columns):\n",
            " #   Column  Non-Null Count   Dtype \n",
            "---  ------  --------------   ----- \n",
            " 0   tokens  228273 non-null  object\n",
            " 1   labels  228273 non-null  object\n",
            "dtypes: object(2)\n",
            "memory usage: 3.5+ MB\n",
            "None\n",
            "Dataset Shape\n",
            "(228273, 2)\n",
            "Describe\n",
            "                                                   tokens  \\\n",
            "count                                              228273   \n",
            "unique                                              20206   \n",
            "top     [B-NAME, O, B-LOC, B-LOC, B-LOC, O, B-LOC, O, ...   \n",
            "freq                                                33410   \n",
            "\n",
            "                                   labels  \n",
            "count                              228273  \n",
            "unique                                123  \n",
            "top     [0, 0, 0, 0, 0, 0, 0, 0, 0, 0, 0]  \n",
            "freq                                74395  \n",
            "tokens    0\n",
            "labels    0\n",
            "dtype: int64\n",
            "[INFO] Applying data augmentation\n",
            "[INFO] Augmented to 237037 samples\n",
            "[INFO] Validating labels\n",
            "[INFO] Validated: 237037 samples retained\n",
            "[INFO] Validating labels\n",
            "[INFO] Validated: 22827 samples retained\n",
            "[INFO] Validating labels\n",
            "[INFO] Validated: 22828 samples retained\n",
            "[INFO] Train size: 237037, Validation size: 22827, Test size: 22828\n"
          ]
        }
      ],
      "source": [
        "def load_csv_data(csv_path='/content/drive/MyDrive/NER/telugu_ner_data.csv'):\n",
        "    logger.info(f\"Attempting to load CSV dataset from {csv_path}\")\n",
        "    print(f\"[INFO] Attempting to load CSV dataset from {csv_path}\")\n",
        "\n",
        "    if not os.path.exists(csv_path):\n",
        "        logger.error(f\"CSV file not found: {csv_path}\")\n",
        "        print(f\"[ERROR] CSV file not found: {csv_path}\")\n",
        "        return None, None\n",
        "    try:\n",
        "        df = pd.read_csv(csv_path, encoding='utf-8')\n",
        "        logger.info(f\"CSV columns: {df.columns.tolist()}\")\n",
        "        print(f\"[INFO] CSV columns: {df.columns.tolist()}\")\n",
        "        logger.info(f\"First row sample: {df.iloc[0].to_dict() if not df.empty else 'Empty CSV'}\")\n",
        "        print(f\"[INFO] First row sample: {df.iloc[0].to_dict() if not df.empty else 'Empty CSV'}\")\n",
        "        logger.info(f\"Dataset head:\\n{df.head() if not df.empty else 'Empty CSV'}\")\n",
        "        print(f\"[INFO] Dataset head:\\n{df.head() if not df.empty else 'Empty CSV'}\")\n",
        "\n",
        "\n",
        "        expected_cols = {'tokens', 'labels'}\n",
        "        if not expected_cols.issubset(df.columns):\n",
        "            logger.error(f\"Missing columns. Expected {expected_cols}, found {df.columns}\")\n",
        "            print(f\"[ERROR] Missing columns. Expected {expected_cols}, found {df.columns}\")\n",
        "            return None, None\n",
        "\n",
        "        texts, labels = [], []\n",
        "        for idx, row in df.iterrows():\n",
        "            try:\n",
        "                tokens = row['tokens']\n",
        "                if isinstance(tokens, str):\n",
        "                    try:\n",
        "                        tokens = ast.literal_eval(tokens)\n",
        "                    except (ValueError, SyntaxError):\n",
        "                        tokens = json.loads(tokens)\n",
        "                if not isinstance(tokens, (list, tuple)) or not tokens:\n",
        "                    logger.warning(f\"Row {idx}: Invalid tokens: {tokens}\")\n",
        "                    print(f\"[WARNING] Row {idx}: Invalid tokens: {tokens}\")\n",
        "                    continue\n",
        "\n",
        "                tags = row['labels']\n",
        "                if isinstance(tags, str):\n",
        "                    try:\n",
        "                        tags = ast.literal_eval(tags)\n",
        "                    except (ValueError, SyntaxError):\n",
        "                        tags = json.loads(tags)\n",
        "                if not isinstance(tags, (list, tuple)) or not tags:\n",
        "                    logger.warning(f\"Row {idx}: Invalid labels: {tags}\")\n",
        "                    print(f\"[WARNING] Row {idx}: Invalid labels: {tags}\")\n",
        "                    continue\n",
        "\n",
        "                if len(tokens) != len(tags):\n",
        "                    logger.warning(f\"Row {idx}: Mismatched lengths: tokens={tokens}, tags={tags}\")\n",
        "                    print(f\"[WARNING] Row {idx}: Mismatched lengths: tokens={tokens}, tags={tags}\")\n",
        "                    continue\n",
        "\n",
        "                tag_ids = [tag2id.get(tag, 0) for tag in tags]\n",
        "                if not all(isinstance(id_, int) and 0 <= id_ <= 6 for id_ in tag_ids):\n",
        "                    logger.warning(f\"Row {idx}: Invalid tag IDs: {tag_ids}, tags={tags}\")\n",
        "                    print(f\"[WARNING] Row {idx}: Invalid tag IDs: {tag_ids}, tags={tags}\")\n",
        "                    continue\n",
        "\n",
        "                texts.append(tokens)\n",
        "                labels.append(tag_ids)\n",
        "            except Exception as e:\n",
        "                logger.warning(f\"Row {idx}: Error processing: {str(e)}, row={row.to_dict()}\")\n",
        "                print(f\"[WARNING] Row {idx}: Error processing: {str(e)}, row={row.to_dict()}\")\n",
        "                continue\n",
        "\n",
        "        logger.info(f\"Loaded {len(texts)} valid samples from CSV\")\n",
        "        print(f\"[INFO] Loaded {len(texts)} valid samples from CSV\")\n",
        "        logger.info(f\"CSV columns: {df.columns.tolist()}\")\n",
        "        print(f\"[INFO] CSV columns: {df.columns.tolist()}\")\n",
        "        df_texts = pd.DataFrame({'tokens': texts, 'labels': labels})\n",
        "        logger.info(df_texts.info())\n",
        "        print(\"Dataset Info:\")\n",
        "        print(df_texts.info())\n",
        "\n",
        "        logger.info(df_texts.shape)\n",
        "        print(\"Dataset Shape\")\n",
        "        print(df_texts.shape)\n",
        "\n",
        "        logger.info(df_texts.describe())\n",
        "        print(\"Describe\")\n",
        "        print(df_texts.describe())\n",
        "\n",
        "        logger.info(df_texts.isnull().sum())\n",
        "        print(df_texts.isnull().sum())\n",
        "\n",
        "        return texts, labels\n",
        "    except Exception as e:\n",
        "        logger.error(f\"Failed to load CSV: {str(e)}. Falling back to WikiANN\")\n",
        "        print(f\"[ERROR] Failed to load CSV: {str(e)}. Falling back to WikiANN\")\n",
        "        return None, None\n",
        "\n",
        "def load_wikiann_data():\n",
        "    logger.info(\"Loading WikiANN Telugu dataset as fallback\")\n",
        "    print(\"[INFO] Loading WikiANN Telugu dataset as fallback\")\n",
        "    try:\n",
        "        dataset = load_dataset(\"wikiann\", \"te\")\n",
        "\n",
        "        def process_example(example):\n",
        "            tokens = example['tokens']\n",
        "            ner_tags = example['ner_tags']\n",
        "            if not tokens or not ner_tags or len(tokens) != len(ner_tags):\n",
        "                logger.warning(f\"Invalid sample: tokens={tokens}, tags={ner_tags}\")\n",
        "                print(f\"[WARNING] Invalid sample: tokens={tokens}, tags={ner_tags}\")\n",
        "                return None\n",
        "            if not all(isinstance(tag, int) and 0 <= tag <= 6 for tag in ner_tags):\n",
        "                logger.warning(f\"Invalid tags: tags={ner_tags}\")\n",
        "                print(f\"[WARNING] Invalid tags: tags={ner_tags}\")\n",
        "                return None\n",
        "            return tokens, ner_tags\n",
        "\n",
        "        train_data = [x for x in map(process_example, dataset['train']) if x]\n",
        "        val_data = [x for x in map(process_example, dataset['validation']) if x]\n",
        "        test_data = [x for x in map(process_example, dataset['test']) if x]\n",
        "\n",
        "        train_texts, train_labels = zip(*train_data) if train_data else ([], [])\n",
        "        val_texts, val_labels = zip(*val_data) if val_data else ([], [])\n",
        "        test_texts, test_labels = zip(*test_data) if test_data else ([], [])\n",
        "\n",
        "        return (list(train_texts), list(train_labels),\n",
        "                list(val_texts), list(val_labels),\n",
        "                list(test_texts), list(test_labels))\n",
        "    except Exception as e:\n",
        "        logger.error(f\"Failed to load WikiANN: {str(e)}\")\n",
        "        print(f\"[ERROR] Failed to load WikiANN: {str(e)}\")\n",
        "        raise\n",
        "\n",
        "def augment_data(texts, labels):\n",
        "    logger.info(\"Applying data augmentation\")\n",
        "    print(\"[INFO] Applying data augmentation\")\n",
        "    aug_texts, aug_labels = [], []\n",
        "    for text, label in zip(texts, labels):\n",
        "        aug_texts.append(text)\n",
        "        aug_labels.append(label)\n",
        "        if np.random.rand() < 0.3:\n",
        "            new_text, new_label = [], []\n",
        "            for t, l in zip(text, label):\n",
        "                new_text.append(t)\n",
        "                new_label.append(l)\n",
        "                if l == 0 and np.random.rand() < 0.5:\n",
        "                    new_text.append(t)\n",
        "                    new_label.append(l)\n",
        "            aug_texts.append(new_text)\n",
        "            aug_labels.append(new_label)\n",
        "    logger.info(f\"Augmented to {len(aug_texts)} samples\")\n",
        "    print(f\"[INFO] Augmented to {len(aug_texts)} samples\")\n",
        "    return aug_texts, aug_labels\n",
        "\n",
        "def validate_labels(texts, labels):\n",
        "    logger.info(\"Validating labels\")\n",
        "    print(\"[INFO] Validating labels\")\n",
        "    valid_texts, valid_labels = [], []\n",
        "    for text, label in zip(texts, labels):\n",
        "        if not text or not label or len(text) != len(label):\n",
        "            logger.warning(f\"Skipping invalid: text={text}, label={label}\")\n",
        "            print(f\"[WARNING] Skipping invalid: text={text}, label={label}\")\n",
        "            continue\n",
        "        if not all(isinstance(l, int) and l in tag2id.values() for l in label):\n",
        "            logger.warning(f\"Invalid labels: {label}\")\n",
        "            print(f\"[WARNING] Invalid labels: {label}\")\n",
        "            continue\n",
        "        valid_texts.append(text)\n",
        "        valid_labels.append(label)\n",
        "    logger.info(f\"Validated: {len(valid_texts)} samples retained\")\n",
        "    print(f\"[INFO] Validated: {len(valid_texts)} samples retained\")\n",
        "    return valid_texts, valid_labels\n",
        "\n",
        "logger.info(\"Loading data\")\n",
        "print(\"[INFO] Loading data\")\n",
        "train_texts, train_labels = load_csv_data()\n",
        "if train_texts is None or not train_texts:\n",
        "    logger.warning(\"CSV loading failed or empty. Using WikiANN dataset.\")\n",
        "    print(\"[WARNING] CSV loading failed or empty. Using WikiANN dataset.\")\n",
        "    train_texts, train_labels, val_texts, val_labels, test_texts, test_labels = load_wikiann_data()\n",
        "else:\n",
        "    train_texts, temp_texts, train_labels, temp_labels = train_test_split(\n",
        "        train_texts, train_labels, test_size=0.2, random_state=42\n",
        "    )\n",
        "    val_texts, test_texts, val_labels, test_labels = train_test_split(\n",
        "        temp_texts, temp_labels, test_size=0.5, random_state=42\n",
        "    )\n",
        "\n",
        "train_texts, train_labels = augment_data(train_texts, train_labels)\n",
        "train_texts, train_labels = validate_labels(train_texts, train_labels)\n",
        "val_texts, val_labels = validate_labels(val_texts, val_labels)\n",
        "test_texts, test_labels = validate_labels(test_texts, test_labels)\n",
        "\n",
        "logger.info(f\"Train size: {len(train_texts)}, Validation size: {len(val_texts)}, Test size: {len(test_texts)}\")\n",
        "print(f\"[INFO] Train size: {len(train_texts)}, Validation size: {len(val_texts)}, Test size: {len(test_texts)}\")"
      ]
    },
    {
      "cell_type": "markdown",
      "metadata": {
        "id": "wq9jqbpjv_5Z"
      },
      "source": [
        "**Tokenize and Align Labels**"
      ]
    },
    {
      "cell_type": "code",
      "execution_count": 13,
      "metadata": {
        "colab": {
          "base_uri": "https://localhost:8080/"
        },
        "id": "ynNISUrrwDUY",
        "outputId": "82f71377-6a58-4fdb-ea72-b53a22ac2eda"
      },
      "outputs": [
        {
          "output_type": "stream",
          "name": "stdout",
          "text": [
            "[INFO] Tokenizing and aligning labels\n",
            "[INFO] Tokenized shapes: input_ids=(237037, 128), masks=(237037, 128), labels=(237037, 128)\n",
            "[INFO] Tokenizing and aligning labels\n",
            "[INFO] Tokenized shapes: input_ids=(22827, 128), masks=(22827, 128), labels=(22827, 128)\n",
            "[INFO] Tokenizing and aligning labels\n",
            "[INFO] Tokenized shapes: input_ids=(22828, 128), masks=(22828, 128), labels=(22828, 128)\n"
          ]
        }
      ],
      "source": [
        "def tokenize_and_align_labels(texts, labels, max_len=128):\n",
        "    logger.info(\"Tokenizing and aligning labels\")\n",
        "    print(\"[INFO] Tokenizing and aligning labels\")\n",
        "    input_ids, attention_masks, label_ids = [], [], []\n",
        "\n",
        "    for text, label in zip(texts, labels):\n",
        "        try:\n",
        "            if not text or not label or len(text) != len(label):\n",
        "                logger.warning(f\"Skipping invalid: text={text}, label={label}\")\n",
        "                print(f\"[WARNING] Skipping invalid: text={text}, label={label}\")\n",
        "                continue\n",
        "            text_str = ' '.join(map(str, text))\n",
        "            if not text_str.strip():\n",
        "                logger.warning(f\"Empty text: {text}\")\n",
        "                print(f\"[WARNING] Empty text: {text}\")\n",
        "                continue\n",
        "\n",
        "            tokenized = tokenizer(\n",
        "                text,\n",
        "                max_length=max_len,\n",
        "                padding='max_length',\n",
        "                truncation=True,\n",
        "                return_tensors='tf',\n",
        "                is_split_into_words=True,\n",
        "                return_offsets_mapping=False\n",
        "            )\n",
        "\n",
        "            input_id = tokenized['input_ids'][0]\n",
        "            attention_mask = tokenized['attention_mask'][0]\n",
        "            word_ids = tokenized.word_ids(batch_index=0)\n",
        "\n",
        "            if tf.reduce_max(input_id).numpy() >= tokenizer.vocab_size:\n",
        "                logger.warning(f\"Invalid token IDs: text={text}\")\n",
        "                print(f\"[WARNING] Invalid token IDs: text={text}\")\n",
        "                continue\n",
        "\n",
        "            aligned_labels = [-100] * max_len\n",
        "            label_idx = 0\n",
        "            prev_word_id = None\n",
        "\n",
        "            for i, word_id in enumerate(word_ids):\n",
        "                if word_id is None:\n",
        "                    aligned_labels[i] = -100\n",
        "                    continue\n",
        "                if word_id != prev_word_id:\n",
        "                    if label_idx >= len(label):\n",
        "                        logger.warning(f\"Label index out of range: text={text}\")\n",
        "                        print(f\"[WARNING] Label index out of range: text={text}\")\n",
        "                        break\n",
        "                    aligned_labels[i] = label[label_idx]\n",
        "                    label_idx += 1\n",
        "                else:\n",
        "                    aligned_labels[i] = aligned_labels[i-1] if i > 0 else -100\n",
        "                prev_word_id = word_id\n",
        "\n",
        "            input_ids.append(input_id)\n",
        "            attention_masks.append(attention_mask)\n",
        "            label_ids.append(aligned_labels)\n",
        "        except Exception as e:\n",
        "            logger.warning(f\"Error processing: text={text}, error={str(e)}\")\n",
        "            print(f\"[WARNING] Error processing: text={text}, error={str(e)}\")\n",
        "            continue\n",
        "\n",
        "    if not input_ids:\n",
        "        logger.error(\"No valid samples tokenized\")\n",
        "        print(\"[ERROR] No valid samples tokenized\")\n",
        "        raise ValueError(\"Tokenization failed for all samples\")\n",
        "\n",
        "    input_ids = tf.convert_to_tensor(input_ids)\n",
        "    attention_masks = tf.convert_to_tensor(attention_masks)\n",
        "    label_ids = tf.convert_to_tensor(label_ids)\n",
        "\n",
        "    logger.info(f\"Tokenized shapes: input_ids={input_ids.shape}, masks={attention_masks.shape}, labels={label_ids.shape}\")\n",
        "    print(f\"[INFO] Tokenized shapes: input_ids={input_ids.shape}, masks={attention_masks.shape}, labels={label_ids.shape}\")\n",
        "\n",
        "    return input_ids, attention_masks, label_ids\n",
        "\n",
        "# Tokenize\n",
        "max_len = 128\n",
        "train_inputs, train_masks, train_labels_ids = tokenize_and_align_labels(train_texts, train_labels, max_len)\n",
        "val_inputs, val_masks, val_labels_ids = tokenize_and_align_labels(val_texts, val_labels, max_len)\n",
        "test_inputs, test_masks, test_labels_ids = tokenize_and_align_labels(test_texts, test_labels, max_len)\n"
      ]
    },
    {
      "cell_type": "markdown",
      "metadata": {
        "id": "opKzGmoZwh3y"
      },
      "source": [
        "**Creating NER Model**"
      ]
    },
    {
      "cell_type": "code",
      "execution_count": 14,
      "metadata": {
        "id": "nJa-258_52y6",
        "colab": {
          "base_uri": "https://localhost:8080/"
        },
        "outputId": "fa9ca20f-429a-4152-8f89-ad2e5cf217a0"
      },
      "outputs": [
        {
          "output_type": "stream",
          "name": "stdout",
          "text": [
            "Model: \"model\"\n",
            "__________________________________________________________________________________________________\n",
            " Layer (type)                Output Shape                 Param #   Connected to                  \n",
            "==================================================================================================\n",
            " input_ids (InputLayer)      [(None, 128)]                0         []                            \n",
            "                                                                                                  \n",
            " attention_masks (InputLaye  [(None, 128)]                0         []                            \n",
            " r)                                                                                               \n",
            "                                                                                                  \n",
            " tf_bert_model (TFBertModel  TFBaseModelOutputWithPooli   1094822   ['input_ids[0][0]',           \n",
            " )                           ngAndCrossAttentions(last_   40         'attention_masks[0][0]']     \n",
            "                             hidden_state=(None, 128, 7                                           \n",
            "                             68),                                                                 \n",
            "                              pooler_output=(None, 768)                                           \n",
            "                             , past_key_values=None, hi                                           \n",
            "                             dden_states=None, attentio                                           \n",
            "                             ns=None, cross_attentions=                                           \n",
            "                             None)                                                                \n",
            "                                                                                                  \n",
            " dropout_37 (Dropout)        (None, 128, 768)             0         ['tf_bert_model[0][0]']       \n",
            "                                                                                                  \n",
            " dense (Dense)               (None, 128, 7)               5383      ['dropout_37[0][0]']          \n",
            "                                                                                                  \n",
            "==================================================================================================\n",
            "Total params: 109487623 (417.66 MB)\n",
            "Trainable params: 109487623 (417.66 MB)\n",
            "Non-trainable params: 0 (0.00 Byte)\n",
            "__________________________________________________________________________________________________\n"
          ]
        }
      ],
      "source": [
        "def create_ner_model(max_len=128, num_tags=7):\n",
        "    logger.info(\"Creating NER model\")\n",
        "    input_ids = tf.keras.layers.Input(shape=(max_len,), dtype=tf.int32, name='input_ids')\n",
        "    attention_masks = tf.keras.layers.Input(shape=(max_len,), dtype=tf.int32, name='attention_masks')\n",
        "\n",
        "    bert_outputs = bert_model(input_ids, attention_mask=attention_masks)[0]\n",
        "    dropout = tf.keras.layers.Dropout(0.1)(bert_outputs)\n",
        "    outputs = tf.keras.layers.Dense(num_tags, activation=None)(dropout)\n",
        "\n",
        "    model = tf.keras.Model(inputs=[input_ids, attention_masks], outputs=outputs)\n",
        "    return model\n",
        "\n",
        "model = create_ner_model()\n",
        "model.summary()"
      ]
    },
    {
      "cell_type": "markdown",
      "metadata": {
        "id": "9B_O7PtdxrBI"
      },
      "source": [
        "**Custom loss function to ignore -100 padding labels**"
      ]
    },
    {
      "cell_type": "code",
      "execution_count": 15,
      "metadata": {
        "id": "NaQCgG1yxvdw"
      },
      "outputs": [],
      "source": [
        "def custom_sparse_categorical_crossentropy(y_true, y_pred):\n",
        "    mask = tf.not_equal(y_true, -100)\n",
        "    y_true_masked = tf.where(mask, y_true, 0)\n",
        "    loss = tf.keras.losses.sparse_categorical_crossentropy(\n",
        "        y_true_masked, y_pred, from_logits=True\n",
        "    )\n",
        "    loss = tf.where(mask, loss, 0.0)\n",
        "    final_loss = tf.reduce_sum(loss) / tf.maximum(tf.reduce_sum(tf.cast(mask, tf.float32)), 1.0)\n",
        "    print(f\"[INFO] Custom loss computed: {final_loss.numpy()}\")\n",
        "    return final_loss"
      ]
    },
    {
      "cell_type": "markdown",
      "metadata": {
        "id": "plwdnbOBy_41"
      },
      "source": [
        "**Custom accuracy metric to ignore -100 padding labels**"
      ]
    },
    {
      "cell_type": "code",
      "execution_count": 16,
      "metadata": {
        "id": "lDBwd7BtzC6x"
      },
      "outputs": [],
      "source": [
        "def custom_accuracy(y_true, y_pred):\n",
        "    mask = tf.not_equal(y_true, -100)\n",
        "    y_true_masked = tf.where(mask, tf.cast(y_true, tf.int32), 0)\n",
        "    y_pred_masked = tf.where(mask, tf.argmax(y_pred, axis=-1, output_type=tf.int32), 0)\n",
        "    correct = tf.equal(y_true_masked, y_pred_masked)\n",
        "    correct = tf.where(mask, correct, False)\n",
        "    accuracy = tf.reduce_sum(tf.cast(correct, tf.float32)) / tf.maximum(tf.reduce_sum(tf.cast(mask, tf.float32)), 1.0)\n",
        "    print(f\"[INFO] Custom accuracy computed: {accuracy.numpy()}\")\n",
        "    return accuracy"
      ]
    },
    {
      "cell_type": "markdown",
      "metadata": {
        "id": "z0lSclCzxu7e"
      },
      "source": [
        "**Clear any previous model state**"
      ]
    },
    {
      "cell_type": "code",
      "execution_count": 17,
      "metadata": {
        "id": "wBr0rZovzReE",
        "colab": {
          "base_uri": "https://localhost:8080/"
        },
        "outputId": "991c633d-8ea9-45bb-f2a0-f382fe5a9f50"
      },
      "outputs": [
        {
          "output_type": "stream",
          "name": "stdout",
          "text": [
            "[INFO] TensorFlow session cleared.\n"
          ]
        }
      ],
      "source": [
        "tf.keras.backend.clear_session()\n",
        "print(\"[INFO] TensorFlow session cleared.\")"
      ]
    },
    {
      "cell_type": "markdown",
      "metadata": {
        "id": "O3JsOIwXz3Oj"
      },
      "source": [
        "**Compile model**"
      ]
    },
    {
      "cell_type": "code",
      "execution_count": 18,
      "metadata": {
        "id": "QqC_7a7pz2zo",
        "colab": {
          "base_uri": "https://localhost:8080/"
        },
        "outputId": "11bc3130-d7c9-482a-b9dc-0060fcd9e851"
      },
      "outputs": [
        {
          "output_type": "stream",
          "name": "stdout",
          "text": [
            "[INFO] Compiling model\n",
            "[INFO] Model compiled successfully\n"
          ]
        }
      ],
      "source": [
        "logger.info(\"Compiling model\")\n",
        "print(\"[INFO] Compiling model\")\n",
        "\n",
        "optimizer = tf.keras.optimizers.Adam(learning_rate=2e-5, clipnorm=1.0)\n",
        "model.compile(optimizer=optimizer, loss=custom_sparse_categorical_crossentropy, metrics=[custom_accuracy])\n",
        "\n",
        "logger.info(\"Model compiled successfully\")\n",
        "print(\"[INFO] Model compiled successfully\")"
      ]
    },
    {
      "cell_type": "markdown",
      "metadata": {
        "id": "_rZiMmJK5Jip"
      },
      "source": [
        "**Verify label dtype**"
      ]
    },
    {
      "cell_type": "code",
      "execution_count": 19,
      "metadata": {
        "id": "7NELmR0n5FzE",
        "colab": {
          "base_uri": "https://localhost:8080/"
        },
        "outputId": "3aa72d60-bc1d-4997-f8d7-8b6c5a9ca3cf"
      },
      "outputs": [
        {
          "output_type": "stream",
          "name": "stdout",
          "text": [
            "[INFO] Train labels dtype: <dtype: 'int32'>, shape: (237037, 128)\n"
          ]
        }
      ],
      "source": [
        "logger.info(f\"Train labels dtype: {train_labels_ids.dtype}, shape: {train_labels_ids.shape}\")\n",
        "print(f\"[INFO] Train labels dtype: {train_labels_ids.dtype}, shape: {train_labels_ids.shape}\")\n",
        "\n",
        "if train_labels_ids.dtype != tf.int32:\n",
        "    logger.info(\"Converting train_labels_ids to int32\")\n",
        "    print(\"[INFO] Converting train_labels_ids to int32\")\n",
        "    train_labels_ids = tf.cast(train_labels_ids, tf.int32)"
      ]
    },
    {
      "cell_type": "markdown",
      "source": [
        "**Custom Checkpoint Callback**"
      ],
      "metadata": {
        "id": "bVpvbUdTzRq3"
      }
    },
    {
      "cell_type": "code",
      "source": [
        "print(\"Custom Checkpoint Callback\")\n",
        "class StepwiseCheckpoint(tf.keras.callbacks.Callback):\n",
        "    def __init__(self, save_path, save_freq_steps=200):\n",
        "        super().__init__()\n",
        "        self.save_path = save_path\n",
        "        self.save_freq_steps = save_freq_steps\n",
        "        self.step = 0\n",
        "\n",
        "    def on_train_batch_end(self, batch, logs=None):\n",
        "        self.step += 1\n",
        "        if self.step % self.save_freq_steps == 0:\n",
        "            path = os.path.join(self.save_path, f\"step_{self.step}\")\n",
        "            self.model.save_weights(path)\n",
        "            logger.info(f\"Checkpoint saved at step {self.step} -> {path}\")"
      ],
      "metadata": {
        "colab": {
          "base_uri": "https://localhost:8080/"
        },
        "id": "Cf7NtRYAzNao",
        "outputId": "42b979fe-694c-4ffc-dcc7-1e695f3d94f3"
      },
      "execution_count": 35,
      "outputs": [
        {
          "output_type": "stream",
          "name": "stdout",
          "text": [
            "Custom Checkpoint Callback\n"
          ]
        }
      ]
    },
    {
      "cell_type": "markdown",
      "metadata": {
        "id": "XUuawAqW5OB3"
      },
      "source": [
        "**Training with checkpointing**"
      ]
    },
    {
      "cell_type": "code",
      "execution_count": 20,
      "metadata": {
        "id": "tW8U66Xh5Q7k"
      },
      "outputs": [],
      "source": [
        "checkpoint_path = '/content/drive/MyDrive/NER/telugu_ner_checkpoint'\n",
        "\n",
        "if os.path.exists(checkpoint_path):\n",
        "    try:\n",
        "        shutil.rmtree(checkpoint_path)\n",
        "        logger.info(f\"Cleared checkpoint directory {checkpoint_path}\")\n",
        "    except Exception as e:\n",
        "        logger.warning(f\"Failed to clear checkpoint directory: {str(e)}. Proceeding cautiously.\")\n",
        "\n",
        "os.makedirs(checkpoint_path, exist_ok=True)"
      ]
    },
    {
      "cell_type": "markdown",
      "metadata": {
        "id": "0ePmiVfG5rjY"
      },
      "source": [
        "**Callbacks**"
      ]
    },
    {
      "cell_type": "code",
      "execution_count": 21,
      "metadata": {
        "id": "jZz0jpvA5uny"
      },
      "outputs": [],
      "source": [
        "early_stopping = tf.keras.callbacks.EarlyStopping(\n",
        "    monitor='val_loss',\n",
        "    patience=1,\n",
        "    restore_best_weights=True\n",
        ")\n",
        "\n",
        "stepwise_checkpoint = StepwiseCheckpoint(\n",
        "    save_path=checkpoint_path,\n",
        "    save_freq_steps=200\n",
        ")\n",
        "\n",
        "checkpoint = tf.keras.callbacks.ModelCheckpoint(\n",
        "    os.path.join(checkpoint_path, 'best_model.weights.h5'),\n",
        "    monitor='val_loss',\n",
        "    save_best_only=True,\n",
        "    save_weights_only=True,\n",
        "    mode='min'\n",
        ")"
      ]
    },
    {
      "cell_type": "markdown",
      "metadata": {
        "id": "Ryply7Kn6dtv"
      },
      "source": [
        "**Train Model**"
      ]
    },
    {
      "cell_type": "code",
      "execution_count": null,
      "metadata": {
        "colab": {
          "base_uri": "https://localhost:8080/"
        },
        "id": "TNxJXXNn52y6",
        "outputId": "69d20aca-754f-4429-cd00-954ad80ae74a"
      },
      "outputs": [
        {
          "name": "stdout",
          "output_type": "stream",
          "text": [
            "Epoch 1/10\n"
          ]
        },
        {
          "name": "stderr",
          "output_type": "stream",
          "text": [
            "WARNING:tensorflow:Gradients do not exist for variables ['tf_bert_model_2/bert/pooler/dense/kernel:0', 'tf_bert_model_2/bert/pooler/dense/bias:0'] when minimizing the loss. If you're using `model.compile()`, did you forget to provide a `loss` argument?\n",
            "WARNING:tensorflow:Gradients do not exist for variables ['tf_bert_model_2/bert/pooler/dense/kernel:0', 'tf_bert_model_2/bert/pooler/dense/bias:0'] when minimizing the loss. If you're using `model.compile()`, did you forget to provide a `loss` argument?\n",
            "WARNING:tensorflow:Gradients do not exist for variables ['tf_bert_model_2/bert/pooler/dense/kernel:0', 'tf_bert_model_2/bert/pooler/dense/bias:0'] when minimizing the loss. If you're using `model.compile()`, did you forget to provide a `loss` argument?\n",
            "WARNING:tensorflow:Gradients do not exist for variables ['tf_bert_model_2/bert/pooler/dense/kernel:0', 'tf_bert_model_2/bert/pooler/dense/bias:0'] when minimizing the loss. If you're using `model.compile()`, did you forget to provide a `loss` argument?\n"
          ]
        },
        {
          "name": "stdout",
          "output_type": "stream",
          "text": [
            "82/82 [==============================] - 2639s 31s/step - loss: 0.8041 - custom_accuracy: 0.7663 - val_loss: 0.6619 - val_custom_accuracy: 0.8000\n",
            "Epoch 2/10\n",
            "82/82 [==============================] - 2530s 31s/step - loss: 0.6615 - custom_accuracy: 0.8037 - val_loss: 0.6280 - val_custom_accuracy: 0.8117\n",
            "Epoch 3/10\n",
            "82/82 [==============================] - 2510s 31s/step - loss: 0.6202 - custom_accuracy: 0.8128 - val_loss: 0.6115 - val_custom_accuracy: 0.8175\n",
            "Epoch 4/10\n",
            "82/82 [==============================] - 2503s 30s/step - loss: 0.5947 - custom_accuracy: 0.8208 - val_loss: 0.6065 - val_custom_accuracy: 0.8230\n",
            "Epoch 5/10\n",
            "82/82 [==============================] - 2486s 30s/step - loss: 0.5681 - custom_accuracy: 0.8284 - val_loss: 0.5978 - val_custom_accuracy: 0.8234\n",
            "Epoch 6/10\n",
            "82/82 [==============================] - 2460s 30s/step - loss: 0.5485 - custom_accuracy: 0.8329 - val_loss: 0.6096 - val_custom_accuracy: 0.8212\n",
            "Epoch 7/10\n",
            "82/82 [==============================] - 2460s 30s/step - loss: 0.5386 - custom_accuracy: 0.8376 - val_loss: 0.5951 - val_custom_accuracy: 0.8226\n",
            "Epoch 8/10\n",
            "82/82 [==============================] - 2492s 30s/step - loss: 0.5273 - custom_accuracy: 0.8404 - val_loss: 0.6033 - val_custom_accuracy: 0.8246\n",
            "Epoch 9/10\n",
            "82/82 [==============================] - 2371s 29s/step - loss: 0.5079 - custom_accuracy: 0.8453 - val_loss: 0.6091 - val_custom_accuracy: 0.8213\n",
            "Epoch 10/10\n",
            "82/82 [==============================] - 2390s 29s/step - loss: 0.4967 - custom_accuracy: 0.8493 - val_loss: 0.6189 - val_custom_accuracy: 0.8224\n"
          ]
        }
      ],
      "source": [
        "logger.info(\"Starting training\")\n",
        "history = model.fit(\n",
        "    [train_inputs, train_masks],\n",
        "    train_labels_ids,\n",
        "    validation_data=([val_inputs, val_masks], val_labels_ids),\n",
        "    epochs=10,\n",
        "    batch_size=16,\n",
        "    callbacks=[early_stopping, checkpoint],\n",
        "    verbose=1,\n",
        "    initial_epoch=0\n",
        ")"
      ]
    },
    {
      "cell_type": "markdown",
      "source": [
        "**Optional - Resume from Latest Checkpoint Automatically**"
      ],
      "metadata": {
        "id": "J01btTiDy3Uu"
      }
    },
    {
      "cell_type": "code",
      "source": [
        "def find_latest_checkpoint(checkpoint_path):\n",
        "    steps = []\n",
        "    for name in os.listdir(checkpoint_path):\n",
        "        match = re.match(r\"step_(\\\\d+)\", name)\n",
        "        if match:\n",
        "            steps.append(int(match.group(1)))\n",
        "    if not steps:\n",
        "        logger.warning(\"No checkpoint found, starting from scratch.\")\n",
        "        return None\n",
        "    latest_step = max(steps)\n",
        "    latest_ckpt = os.path.join(checkpoint_path, f\"step_{latest_step}\")\n",
        "    logger.info(f\"Found latest checkpoint at step {latest_step}\")\n",
        "    return latest_ckpt\n",
        "\n",
        "latest_checkpoint = find_latest_checkpoint(checkpoint_path)\n",
        "if latest_checkpoint:\n",
        "    logger.info(f\"Loading weights from {latest_checkpoint}\")\n",
        "    model.load_weights(latest_checkpoint)\n",
        "else:\n",
        "    logger.info(\"No checkpoint found, training will start fresh.\")"
      ],
      "metadata": {
        "id": "tdL2PUdHywNO"
      },
      "execution_count": null,
      "outputs": []
    },
    {
      "cell_type": "markdown",
      "metadata": {
        "id": "CFQs-CI-6o37"
      },
      "source": [
        "**Evaluate Model**"
      ]
    },
    {
      "cell_type": "code",
      "source": [
        "def evaluate_model(model, inputs, masks, labels, tag2id, id2tag):\n",
        "    logger.info(\"Evaluating model\")\n",
        "    predictions = model.predict([inputs, masks])\n",
        "    pred_labels = tf.argmax(predictions, axis=-1).numpy()\n",
        "\n",
        "    true_labels_flat, pred_labels_flat = [], []\n",
        "\n",
        "    for t, p, m in zip(labels, pred_labels, masks):\n",
        "        mask = t != -100\n",
        "        true_labels_flat.extend(t[mask])\n",
        "        pred_labels_flat.extend(p[mask])\n",
        "\n",
        "    print(\"Classification Report:\")\n",
        "    print(classification_report(\n",
        "        true_labels_flat,\n",
        "        pred_labels_flat,\n",
        "        target_names=[id2tag[i] for i in range(len(tag2id))],\n",
        "        zero_division=0\n",
        "    ))\n",
        "\n",
        "    cm = confusion_matrix(true_labels_flat, pred_labels_flat)\n",
        "    labels_list = [id2tag[i] for i in range(len(tag2id))]\n",
        "\n",
        "    plt.figure(figsize=(12, 10))\n",
        "    sns.heatmap(cm, annot=True, fmt='d', cmap='Blues', xticklabels=labels_list, yticklabels=labels_list, cbar=True, linewidths=0.5)\n",
        "    plt.title('Confusion Matrix', fontsize=24, loc='center', pad=30)\n",
        "    plt.xlabel('Predicted', fontsize=16)\n",
        "    plt.ylabel('True', fontsize=16)\n",
        "    plt.tight_layout(pad=5)\n",
        "    plt.savefig('/content/drive/MyDrive/NER/Plots/confusion_matrix.png')\n",
        "    plt.show()\n",
        "\n",
        "    precision_per_class, recall_per_class, f1_per_class, _ = precision_recall_fscore_support(true_labels_flat, pred_labels_flat, zero_division=0)\n",
        "    plt.figure(figsize=(12, 6))\n",
        "    x = np.arange(len(tag2id))\n",
        "    plt.bar(x - 0.2, precision_per_class, 0.2, label='Precision')\n",
        "    plt.bar(x, recall_per_class, 0.2, label='Recall')\n",
        "    plt.bar(x + 0.2, f1_per_class, 0.2, label='F1-Score')\n",
        "    plt.xticks(x, labels_list, rotation=45)\n",
        "    plt.title('Per-Class Metrics', fontsize=20)\n",
        "    plt.legend()\n",
        "    plt.tight_layout()\n",
        "    plt.savefig('/content/drive/MyDrive/NER/Plots/per_class_metrics.png')\n",
        "    plt.show()\n",
        "\n",
        "evaluate_model(model, test_inputs, test_masks, test_labels_ids, tag2id, id2tag)"
      ],
      "metadata": {
        "colab": {
          "base_uri": "https://localhost:8080/",
          "height": 1000
        },
        "id": "ZkekdIIFLQd-",
        "outputId": "8b559455-09e6-4b35-9e3a-0d1a37b67be4"
      },
      "execution_count": 12,
      "outputs": [
        {
          "output_type": "stream",
          "name": "stdout",
          "text": [
            "32/32 [==============================] - 462s 9s/step\n",
            "\n",
            "Classification Report:\n",
            "              precision    recall  f1-score\n",
            "\n",
            "           O       0.86      0.98      0.91\n",
            "       B-PER       0.47      0.24      0.32\n",
            "       I-PER       0.79      0.21      0.33\n",
            "       B-ORG       0.48      0.23      0.31\n",
            "       I-ORG       0.68      0.68      0.68\n",
            "       B-LOC       0.66      0.33      0.44\n",
            "       I-LOC       0.79      0.44      0.57\n",
            "\n",
            "    accuracy                           0.82\n",
            "   macro avg       0.67      0.45      0.51\n",
            "weighted avg       0.80      0.82      0.79\n",
            "\n"
          ]
        },
        {
          "output_type": "display_data",
          "data": {
            "text/plain": [
              "<Figure size 1200x1000 with 2 Axes>"
            ],
            "image/png": "[encoded data removed]"
          },
          "metadata": {}
        },
        {
          "output_type": "display_data",
          "data": {
            "text/plain": [
              "<Figure size 1200x600 with 1 Axes>"
            ],
            "image/png": "[encoded data removed]"
          },
          "metadata": {}
        }
      ]
    },
    {
      "cell_type": "markdown",
      "source": [
        "**Training Performanace**"
      ],
      "metadata": {
        "id": "ktvOXGxipe--"
      }
    },
    {
      "cell_type": "code",
      "source": [
        "def plot_training_history(history):\n",
        "    logger.info(\"Plotting training history\")\n",
        "    plt.figure(figsize=(15, 5))\n",
        "\n",
        "    plt.subplot(1, 2, 1)\n",
        "    plt.plot(history['loss'], label='Training Loss')\n",
        "    plt.plot(history['val_loss'], label='Validation Loss')\n",
        "    plt.title('Model Loss')\n",
        "    plt.xlabel('Epoch')\n",
        "    plt.ylabel('Loss')\n",
        "    plt.legend()\n",
        "\n",
        "    plt.subplot(1, 2, 2)\n",
        "    plt.plot(history['custom_accuracy'], label='Training Accuracy')\n",
        "    plt.plot(history['val_custom_accuracy'], label='Validation Accuracy')\n",
        "    plt.title('Model Accuracy')\n",
        "    plt.xlabel('Epoch')\n",
        "    plt.ylabel('Accuracy')\n",
        "    plt.legend()\n",
        "\n",
        "    plt.tight_layout()\n",
        "    plt.savefig('/content/drive/MyDrive/Plots/training_performance.png')\n",
        "    plt.show()\n",
        "\n",
        "plot_training_history(history.history)"
      ],
      "metadata": {
        "colab": {
          "base_uri": "https://localhost:8080/",
          "height": 397
        },
        "id": "V5lTJyZPbWmb",
        "outputId": "afffb544-b87a-44ec-a9e6-30593cf943d0"
      },
      "execution_count": 15,
      "outputs": [
        {
          "output_type": "display_data",
          "data": {
            "text/plain": [
              "<Figure size 1500x500 with 2 Axes>"
            ],
            "image/png": "[encoded data removed]"
          },
          "metadata": {}
        }
      ]
    },
    {
      "cell_type": "markdown",
      "source": [
        "**Save Model**"
      ],
      "metadata": {
        "id": "7vA2SRmpqC4K"
      }
    },
    {
      "cell_type": "code",
      "source": [
        "logger.info(\"Saving model weights\")\n",
        "torch.save(model.state_dict(), '/content/drive/MyDrive/NER/Telugu_NER_model/pytorch_model.bin')\n",
        "\n",
        "logger.info(\"Saving tokenizer and configuration files\")\n",
        "tokenizer.save_pretrained('/content/drive/MyDrive/NER/Telugu_NER_model')\n",
        "\n",
        "logger.info(\"Saving model config file\")\n",
        "model.config.save_pretrained('/content/drive/MyDrive/NER/Telugu_NER_model')\n",
        "\n",
        "print(\"Model and tokenizer saved successfully\")"
      ],
      "metadata": {
        "colab": {
          "base_uri": "https://localhost:8080/"
        },
        "id": "G78aKQfQqE4j",
        "outputId": "b6de9730-87af-4bea-9b09-7eba305644d2"
      },
      "execution_count": 32,
      "outputs": [
        {
          "output_type": "stream",
          "name": "stdout",
          "text": [
            "Model and tokenizer saved successfully\n"
          ]
        }
      ]
    }
  ],
  "metadata": {
    "accelerator": "GPU",
    "colab": {
      "gpuType": "T4",
      "provenance": [],
      "include_colab_link": true
    },
    "kernelspec": {
      "display_name": "Python 3",
      "name": "python3"
    },
    "language_info": {
      "name": "python"
    }
  },
  "nbformat": 4,
  "nbformat_minor": 0
}